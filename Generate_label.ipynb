{
 "cells": [
  {
   "cell_type": "code",
   "execution_count": 2,
   "id": "58275fe5",
   "metadata": {},
   "outputs": [],
   "source": [
    "import pandas as pd"
   ]
  },
  {
   "cell_type": "code",
   "execution_count": 3,
   "id": "f9d8b429",
   "metadata": {},
   "outputs": [],
   "source": [
    "data_ret = pd.read_csv(\"C:/Users/OS/OneDrive/Máy tính/BTC.csv\")\n",
    "data_label = pd.read_csv(\"D:/Download/BTCUSDT_label.csv\")\n",
    "label = data_label['LABEL']"
   ]
  },
  {
   "cell_type": "code",
   "execution_count": 4,
   "id": "9359687e",
   "metadata": {},
   "outputs": [],
   "source": [
    "# Add a row number column\n",
    "data_ret['row_number'] = range(1, len(data_ret) + 1)\n",
    "\n",
    "# Filter rows where the row number is divisible by 12 without remainder\n",
    "data = data_ret[data_ret['row_number'] % 12 == 0]"
   ]
  },
  {
   "cell_type": "code",
   "execution_count": 16,
   "id": "52a4c3dd",
   "metadata": {},
   "outputs": [],
   "source": [
    "import numpy as np\n",
    "def get_return(data, time1):\n",
    "    ret = data.copy()\n",
    "    ret[f'return_{time1}'] = np.log(ret['CLOSE']/ret['CLOSE'].shift(time1))\n",
    "    return ret\n",
    "\n",
    "def get_volat(data, time2):\n",
    "    volat = data.copy()\n",
    "    volat = get_return(volat,1)\n",
    "    volat[f\"std_{time2}\"] = volat[f'return_1'].rolling(window = time2).std()\n",
    "    volat[\"std_long\"] = volat[f'return_1'].rolling(window = 300).std()\n",
    "    volat[f\"volat_{time2}\"] = volat[f\"std_{time2}\"]/volat[\"std_long\"]\n",
    "    return volat"
   ]
  },
  {
   "cell_type": "code",
   "execution_count": null,
   "id": "ce22d3a8",
   "metadata": {},
   "outputs": [],
   "source": []
  },
  {
   "cell_type": "code",
   "execution_count": 53,
   "id": "ad34ea46",
   "metadata": {},
   "outputs": [
    {
     "name": "stdout",
     "output_type": "stream",
     "text": [
      "0.022656389586656084\n",
      "11             NaN\n",
      "23             NaN\n",
      "35             NaN\n",
      "47             NaN\n",
      "59             NaN\n",
      "            ...   \n",
      "612803    0.317138\n",
      "612815    0.403105\n",
      "612827    0.518500\n",
      "612839    0.580302\n",
      "612851    0.417262\n",
      "Length: 51071, dtype: float64\n"
     ]
    }
   ],
   "source": [
    "import math\n",
    "\n",
    "sequence = range(1, 27)\n",
    "ret_dict = {}\n",
    "for time1 in sequence:\n",
    "    ret_dict[time1] = get_return(data, time1)\n",
    "\n",
    "i = 20\n",
    "w1 = 200\n",
    "w2 = 200\n",
    "w3 = 200\n",
    "w4 = 200\n",
    "w5 = 200\n",
    "retur = ret_dict[i][f'return_{i}']*w1 + ret_dict[i+1][f'return_{i+1}']*w2 + ret_dict[i+2][f'return_{i+2}']*w3 + ret_dict[i+3][f'return_{i+3}']*w4 + ret_dict[i+4][f'return_{i+4}']*w5\n",
    "\n",
    "time2 = 22\n",
    "volat = get_volat(data,time2)\n",
    "\n",
    "test = 0.5*retur/(volat['volat_22']**15)\n",
    "corrr = test.corr(label)\n",
    "print(corrr)\n",
    "print(test)"
   ]
  },
  {
   "cell_type": "code",
   "execution_count": null,
   "id": "e592bb42",
   "metadata": {},
   "outputs": [],
   "source": []
  },
  {
   "cell_type": "code",
   "execution_count": null,
   "id": "a851ebf7",
   "metadata": {},
   "outputs": [],
   "source": []
  },
  {
   "cell_type": "code",
   "execution_count": null,
   "id": "9c925f65",
   "metadata": {},
   "outputs": [],
   "source": []
  }
 ],
 "metadata": {
  "kernelspec": {
   "display_name": "Python 3 (ipykernel)",
   "language": "python",
   "name": "python3"
  },
  "language_info": {
   "codemirror_mode": {
    "name": "ipython",
    "version": 3
   },
   "file_extension": ".py",
   "mimetype": "text/x-python",
   "name": "python",
   "nbconvert_exporter": "python",
   "pygments_lexer": "ipython3",
   "version": "3.10.9"
  }
 },
 "nbformat": 4,
 "nbformat_minor": 5
}
