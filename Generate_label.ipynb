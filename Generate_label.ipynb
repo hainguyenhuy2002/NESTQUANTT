{
 "cells": [
  {
   "cell_type": "code",
   "execution_count": 2,
   "id": "58275fe5",
   "metadata": {},
   "outputs": [],
   "source": [
    "import pandas as pd"
   ]
  },
  {
   "cell_type": "code",
   "execution_count": 3,
   "id": "f9d8b429",
   "metadata": {},
   "outputs": [],
   "source": [
    "data_ret = pd.read_csv(\"C:/Users/OS/OneDrive/Máy tính/BTC.csv\")\n",
    "data_label = pd.read_csv(\"D:/Download/BTCUSDT_label.csv\")\n",
    "label = data_label['LABEL']"
   ]
  },
  {
   "cell_type": "code",
   "execution_count": 4,
   "id": "9359687e",
   "metadata": {},
   "outputs": [],
   "source": [
    "# Add a row number column\n",
    "data_ret['row_number'] = range(1, len(data_ret) + 1)\n",
    "\n",
    "# Filter rows where the row number is divisible by 12 without remainder\n",
    "data = data_ret[data_ret['row_number'] % 12 == 0]"
   ]
  },
  {
   "cell_type": "code",
   "execution_count": 16,
   "id": "52a4c3dd",
   "metadata": {},
   "outputs": [],
   "source": [
    "import numpy as np\n",
    "def get_return(data, time1):\n",
    "    ret = data.copy()\n",
    "    ret[f'return_{time1}'] = np.log(ret['CLOSE']/ret['CLOSE'].shift(time1))\n",
    "    return ret\n",
    "\n",
    "def get_volat(data, time2):\n",
    "    volat = data.copy()\n",
    "    volat = get_return(volat,1)\n",
    "    volat[f\"std_{time2}\"] = volat[f'return_1'].rolling(window = time2).std()\n",
    "    volat[\"std_long\"] = volat[f'return_1'].rolling(window = 300).std()\n",
    "    volat[f\"volat_{time2}\"] = volat[f\"std_{time2}\"]/volat[\"std_long\"]\n",
    "    return volat"
   ]
  },
  {
   "cell_type": "code",
   "execution_count": 18,
   "id": "ce22d3a8",
   "metadata": {},
   "outputs": [
    {
     "name": "stderr",
     "output_type": "stream",
     "text": [
      "D:\\Anaconda\\lib\\site-packages\\pandas\\core\\arraylike.py:402: RuntimeWarning: overflow encountered in exp\n",
      "  result = getattr(ufunc, method)(*inputs, **kwargs)\n"
     ]
    },
    {
     "ename": "NameError",
     "evalue": "name 'norm' is not defined",
     "output_type": "error",
     "traceback": [
      "\u001b[1;31m---------------------------------------------------------------------------\u001b[0m",
      "\u001b[1;31mNameError\u001b[0m                                 Traceback (most recent call last)",
      "Cell \u001b[1;32mIn[18], line 22\u001b[0m\n\u001b[0;32m     19\u001b[0m sigma \u001b[38;5;241m=\u001b[39m return1\u001b[38;5;241m.\u001b[39mstd()\n\u001b[0;32m     21\u001b[0m \u001b[38;5;66;03m# Calculate the probability\u001b[39;00m\n\u001b[1;32m---> 22\u001b[0m probability \u001b[38;5;241m=\u001b[39m \u001b[38;5;241m1\u001b[39m \u001b[38;5;241m-\u001b[39m \u001b[43mnorm\u001b[49m\u001b[38;5;241m.\u001b[39mcdf(np\u001b[38;5;241m.\u001b[39mlog(target_price), np\u001b[38;5;241m.\u001b[39mlog(current_price), sigma)\n\u001b[0;32m     23\u001b[0m \u001b[38;5;66;03m# Generate a series of probabilities for each time period\u001b[39;00m\n\u001b[0;32m     24\u001b[0m probabilities \u001b[38;5;241m=\u001b[39m []\n",
      "\u001b[1;31mNameError\u001b[0m: name 'norm' is not defined"
     ]
    }
   ],
   "source": [
    "import matplotlib.pyplot as plt\n",
    "# Parameters\n",
    "# drift coefficent\n",
    "\n",
    "close_prices = data['CLOSE']\n",
    "return1 = get_return(data,1)\n",
    "\n",
    "mu = return1.mean()\n",
    "# number of sims\n",
    "M = 1000\n",
    "# initial stock price\n",
    "current_price = close_prices.iloc[-1]\n",
    "target_price = current_price * np.exp(2 * mu)\n",
    "# volatility\n",
    "sigma = return1.std()\n",
    "\n",
    "# Calculate the probability\n",
    "probability = 1 - norm.cdf(np.log(target_price), np.log(current_price), sigma)\n",
    "# Generate a series of probabilities for each time period\n",
    "probabilities = []\n",
    "\n",
    "for i in range(len(close_prices) - 2):\n",
    "    current_price = close_prices.iloc[i]\n",
    "    target_price = current_price * np.exp(2 * mu)\n",
    "    probability = 1 - norm.cdf(np.log(target_price), np.log(current_price), sigma)\n",
    "    probabilities.append(probability)\n",
    "    \n",
    "# Plot the series of probabilities\n",
    "plt.plot(range(len(probabilities)), probabilities)\n",
    "plt.xlabel(\"Time\")\n",
    "plt.ylabel(\"Probability\")\n",
    "plt.title(\"Probability of Current Price Reaching Next 2-hour Price\")\n",
    "plt.show()\n"
   ]
  },
  {
   "cell_type": "code",
   "execution_count": 7,
   "id": "ad34ea46",
   "metadata": {},
   "outputs": [
    {
     "name": "stdout",
     "output_type": "stream",
     "text": [
      "0.01292444350925141\n"
     ]
    }
   ],
   "source": [
    "import math\n",
    "\n",
    "sequence = range(1, 27)\n",
    "ret_dict = {}\n",
    "for time1 in sequence:\n",
    "    ret_dict[time1] = get_return(data, time1)\n",
    "\n",
    "i = 22\n",
    "w1 = 0.4\n",
    "w2 = 0.25\n",
    "w3 = 0.2\n",
    "w4 = 0.1\n",
    "w5 = 0.05\n",
    "retur = ret_dict[i][f'return_{i}']*w1 + ret_dict[i+1][f'return_{i+1}']*w2 + ret_dict[i+2][f'return_{i+2}']*w3 + ret_dict[i+3][f'return_{i+3}']*w4 + ret_dict[i+4][f'return_{i+4}']*w5\n",
    "\n",
    "time2 = 23\n",
    "volat = get_volat(data,time2)\n",
    "\n",
    "test = retur/(volat['volat_23']**15)\n",
    "corrr = test.corr(label)\n",
    "print(corrr)"
   ]
  },
  {
   "cell_type": "code",
   "execution_count": 217,
   "id": "e592bb42",
   "metadata": {},
   "outputs": [
    {
     "name": "stdout",
     "output_type": "stream",
     "text": [
      "-0.0149888794183089\n"
     ]
    }
   ],
   "source": []
  },
  {
   "cell_type": "code",
   "execution_count": null,
   "id": "a851ebf7",
   "metadata": {},
   "outputs": [],
   "source": []
  },
  {
   "cell_type": "code",
   "execution_count": null,
   "id": "9c925f65",
   "metadata": {},
   "outputs": [],
   "source": []
  }
 ],
 "metadata": {
  "kernelspec": {
   "display_name": "Python 3 (ipykernel)",
   "language": "python",
   "name": "python3"
  },
  "language_info": {
   "codemirror_mode": {
    "name": "ipython",
    "version": 3
   },
   "file_extension": ".py",
   "mimetype": "text/x-python",
   "name": "python",
   "nbconvert_exporter": "python",
   "pygments_lexer": "ipython3",
   "version": "3.10.9"
  }
 },
 "nbformat": 4,
 "nbformat_minor": 5
}
